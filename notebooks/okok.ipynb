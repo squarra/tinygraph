{
 "cells": [
  {
   "cell_type": "code",
   "execution_count": null,
   "metadata": {},
   "outputs": [],
   "source": [
    "import tinygrad.nn\n",
    "import torch\n",
    "import torch.nn\n",
    "import torch.nn.functional as F\n",
    "from tinygrad import Tensor\n",
    "from torch_geometric.datasets import Planetoid\n",
    "from torch_geometric.transforms import NormalizeFeatures\n",
    "from torch_geometric.nn import GCNConv as PygConv\n",
    "\n",
    "from tinygraph.nn import GCNConv\n",
    "from tinygraph.nn.datasets import cora"
   ]
  },
  {
   "cell_type": "code",
   "execution_count": null,
   "metadata": {},
   "outputs": [],
   "source": [
    "data = cora()"
   ]
  },
  {
   "cell_type": "code",
   "execution_count": null,
   "metadata": {},
   "outputs": [],
   "source": [
    "class GNN:\n",
    "    def __init__(self, in_features, hidden_features, out_features, dropout=0):\n",
    "        self.conv1 = GCNConv(in_features, hidden_features)\n",
    "        self.conv2 = GCNConv(hidden_features, out_features)\n",
    "        self.dropout = dropout\n",
    "\n",
    "    def __call__(self, x, edge_index):\n",
    "        x = self.conv1(x, edge_index).relu().dropout(p=self.dropout)\n",
    "        return self.conv2(x, edge_index).softmax(axis=1)"
   ]
  },
  {
   "cell_type": "code",
   "execution_count": null,
   "metadata": {},
   "outputs": [],
   "source": [
    "in_features = data.x.shape[1]\n",
    "out_features = len(set(data.y.tolist()))\n",
    "model = GNN(in_features, 16, out_features, dropout=0.5)\n",
    "optimizer = tinygrad.nn.optim.AdamW(tinygrad.nn.state.get_parameters(model), lr=0.01, weight_decay=5e-4)"
   ]
  },
  {
   "cell_type": "code",
   "execution_count": null,
   "metadata": {},
   "outputs": [],
   "source": [
    "import numpy as np\n",
    "\n",
    "\n",
    "def _mask(mask):\n",
    "    return Tensor(np.nonzero(mask.numpy())[0])\n",
    "\n",
    "train_mask, val_mask, test_mask = _mask(data.train_mask), _mask(data.val_mask), _mask(data.test_mask)"
   ]
  },
  {
   "cell_type": "code",
   "execution_count": null,
   "metadata": {},
   "outputs": [],
   "source": [
    "def train():\n",
    "    Tensor.training = True\n",
    "    optimizer.zero_grad()\n",
    "    out = model(data.x, data.edge_index)\n",
    "    mask = train_mask\n",
    "    loss = out[mask].cross_entropy(data.y[mask]).backward()\n",
    "    optimizer.step()\n",
    "    return loss.item()"
   ]
  },
  {
   "cell_type": "code",
   "execution_count": null,
   "metadata": {},
   "outputs": [],
   "source": [
    "def test():\n",
    "    Tensor.training = False\n",
    "    out = model(data.x, data.edge_index) \n",
    "    accuracies = []\n",
    "    for mask in [train_mask, val_mask, test_mask]:\n",
    "        pred = out[mask].argmax(axis=1)\n",
    "        accuracy = pred.eq(data.y[mask]).sum() / mask.shape[0]\n",
    "        accuracies.append(accuracy.item())\n",
    "    return accuracies"
   ]
  },
  {
   "cell_type": "code",
   "execution_count": null,
   "metadata": {},
   "outputs": [],
   "source": [
    "class PygGNN(torch.nn.Module):\n",
    "    def __init__(self, in_features, hidden_channels, out_features, dropout=0):\n",
    "        super().__init__()\n",
    "        self.conv1 = PygConv(in_features, hidden_channels)\n",
    "        self.conv2 = PygConv(hidden_channels, out_features)\n",
    "        self.dropout = dropout\n",
    "    \n",
    "    def forward(self, x, edge_index):\n",
    "        x = self.conv1(x, edge_index)\n",
    "        x = F.relu(x)\n",
    "        x = F.dropout(x, p=self.dropout, training=self.training)\n",
    "        x = self.conv2(x, edge_index)\n",
    "        return F.softmax(x, dim=1)"
   ]
  },
  {
   "cell_type": "code",
   "execution_count": null,
   "metadata": {},
   "outputs": [],
   "source": [
    "pyg_model = PygGNN(in_features, 16, out_features, dropout=0.5)\n",
    "with torch.no_grad():\n",
    "    pyg_model.conv1.lin.weight[:] = torch.tensor(model.conv1.weight.numpy())\n",
    "    # pyg_model.conv1.bias[:] = torch.tensor(model.conv1.bias.numpy())\n",
    "    pyg_model.conv2.lin.weight[:] = torch.tensor(model.conv2.weight.numpy())\n",
    "    # pyg_model.conv2.bias[:] = torch.tensor(model.conv2.bias.numpy())\n",
    "pyg_optimizer = torch.optim.Adam(pyg_model.parameters(), lr=0.01, weight_decay=5e-4)"
   ]
  },
  {
   "cell_type": "code",
   "execution_count": null,
   "metadata": {},
   "outputs": [],
   "source": [
    "pyg_data = Planetoid(root=\"/tmp/Cora\", name=\"Cora\", transform=NormalizeFeatures())[0]"
   ]
  },
  {
   "cell_type": "code",
   "execution_count": null,
   "metadata": {},
   "outputs": [],
   "source": [
    "def pyg_train():\n",
    "    pyg_model.train()\n",
    "    pyg_optimizer.zero_grad()\n",
    "    out = pyg_model(pyg_data.x, pyg_data.edge_index)\n",
    "    loss = F.cross_entropy(out[pyg_data.train_mask], pyg_data.y[pyg_data.train_mask])\n",
    "    loss.backward()\n",
    "    pyg_optimizer.step()\n",
    "    return loss.item()"
   ]
  },
  {
   "cell_type": "code",
   "execution_count": null,
   "metadata": {},
   "outputs": [],
   "source": [
    "def pyg_test():\n",
    "    pyg_model.eval()\n",
    "    logits = pyg_model(pyg_data.x, pyg_data.edge_index)\n",
    "    accuracies = []\n",
    "    for mask in [pyg_data.train_mask, pyg_data.val_mask, pyg_data.test_mask]:\n",
    "        pred = logits[mask].max(dim=1)[1]\n",
    "        acc = pred.eq(pyg_data.y[mask]).sum().item() / mask.sum().item()\n",
    "        accuracies.append(acc)\n",
    "    return accuracies"
   ]
  },
  {
   "cell_type": "code",
   "execution_count": null,
   "metadata": {},
   "outputs": [],
   "source": [
    "for epoch in range(1, 201):\n",
    "    loss = train()\n",
    "    if epoch % 10 == 0:\n",
    "        train_acc, val_acc, test_acc = test()\n",
    "        print(f\"epoch {epoch:03d} loss {loss:.4f} train acc {train_acc:.4f} val acc {val_acc:.4f} test acc {test_acc:.4f}\")"
   ]
  },
  {
   "cell_type": "code",
   "execution_count": null,
   "metadata": {},
   "outputs": [],
   "source": [
    "for epoch in range(1, 201):\n",
    "    loss = pyg_train()\n",
    "    if epoch % 10 == 0:\n",
    "        train_acc, val_acc, test_acc = pyg_test()\n",
    "        print(f\"Epoch: {epoch:03d}, Loss: {loss:.4f}, Train Acc: {train_acc:.4f}, Val Acc: {val_acc:.4f}, Test Acc: {test_acc:.4f}\")"
   ]
  }
 ],
 "metadata": {
  "kernelspec": {
   "display_name": ".venv",
   "language": "python",
   "name": "python3"
  },
  "language_info": {
   "codemirror_mode": {
    "name": "ipython",
    "version": 3
   },
   "file_extension": ".py",
   "mimetype": "text/x-python",
   "name": "python",
   "nbconvert_exporter": "python",
   "pygments_lexer": "ipython3",
   "version": "3.12.3"
  }
 },
 "nbformat": 4,
 "nbformat_minor": 2
}
