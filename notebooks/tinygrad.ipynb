{
 "cells": [
  {
   "cell_type": "code",
   "execution_count": null,
   "metadata": {},
   "outputs": [],
   "source": [
    "from tinygrad import Tensor, dtypes"
   ]
  },
  {
   "cell_type": "code",
   "execution_count": null,
   "metadata": {},
   "outputs": [],
   "source": [
    "edge_index = Tensor([[1, 0], [0, 2]])\n",
    "num_nodes = 3\n",
    "adj = Tensor.zeros(num_nodes, num_nodes, dtype=dtypes.bool).contiguous()\n",
    "src, dst = edge_index\n",
    "adj[src, dst] = True\n",
    "adj.numpy()"
   ]
  },
  {
   "cell_type": "code",
   "execution_count": null,
   "metadata": {},
   "outputs": [],
   "source": [
    "num_nodes = 10000\n",
    "a = Tensor.arange(num_nodes)\n",
    "b = Tensor.arange(num_nodes)\n",
    "adj = Tensor.zeros(num_nodes, num_nodes).contiguous()\n",
    "adj[a, b] = 1.0\n",
    "adj.numpy()"
   ]
  }
 ],
 "metadata": {
  "kernelspec": {
   "display_name": ".venv",
   "language": "python",
   "name": "python3"
  },
  "language_info": {
   "codemirror_mode": {
    "name": "ipython",
    "version": 3
   },
   "file_extension": ".py",
   "mimetype": "text/x-python",
   "name": "python",
   "nbconvert_exporter": "python",
   "pygments_lexer": "ipython3",
   "version": "3.12.3"
  }
 },
 "nbformat": 4,
 "nbformat_minor": 2
}
